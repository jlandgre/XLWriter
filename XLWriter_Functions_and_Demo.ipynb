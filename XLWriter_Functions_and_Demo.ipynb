{
 "cells": [
  {
   "cell_type": "markdown",
   "metadata": {},
   "source": [
    "# Pandas XL Writer functions"
   ]
  },
  {
   "cell_type": "markdown",
   "metadata": {},
   "source": [
    "### Writing Pandas projects to an Excel workbook\n",
    "***\n",
    "This notebook contains Python functions useful for outputting an Excel, project workbook whose sheets are one or more Pandas DataFrames.  This is useful when a Python project builds up and completes several, related DataFrames whose data needs to be shared with a consulting client or other user.  Usage is to call the XLWriterPrep function for each DataFrame that will later be included in the Excel workbook.  The XLWriter function is then called at the end of the Python code to create the Excel workbook. The XLWriter functions facilitate using this for organized creation of a formatted workbook whose columns use specified number formats and which have specified column widths to control the Excel data appearance. XLWriter uses [Pandas ExcelWriter](https://pandas.pydata.org/pandas-docs/stable/reference/api/pandas.ExcelWriter.html). [Here is a useful ExcelWriter code example](https://xlsxwriter.readthedocs.io/example_pandas_column_formats.html) from the documentation.  \n",
    "\n",
    "The XLPrep Python function updates four lists used later by XLWriter.  XLPrep adds the DataFrame to a DataFrames list and adds a sheet name to a list of those. Two lists of lists hold formatting specifications for the columns on each sheet.  XLPrep adds a blank list for Excel number formats and a blank Excel column width list to these lists of lists for those items.  These list elements contain the same number of blank items as the DataFrame has columns.  The list elements can then be manually updated to specify Excel number formats and column widths for each DataFrame's columns.\n",
    "\n",
    "J.D. Landgrebe,\n",
    "\n",
    "October 25, 2019"
   ]
  },
  {
   "cell_type": "code",
   "execution_count": 39,
   "metadata": {},
   "outputs": [],
   "source": [
    "import pandas as pd\n",
    "import numpy as np"
   ]
  },
  {
   "cell_type": "markdown",
   "metadata": {},
   "source": [
    "## XLWriter functions"
   ]
  },
  {
   "cell_type": "code",
   "execution_count": 40,
   "metadata": {},
   "outputs": [],
   "source": [
    "#Initialize XLWriter lists\n",
    "list_dfs = []\n",
    "list_shts = []\n",
    "list_fmts = []\n",
    "list_colwidths = []\n",
    "\n",
    "#Loads new item into lists of DataFrames, sheet names.  Initializes column formats\n",
    "def XLWriterPrep(lst_dfs, lst_shts, lst_fmts, lst_colwidths, df,sht):\n",
    "    lst_dfs.append(df)\n",
    "    lst_shts.append(sht)\n",
    "    lst_fmts.append([])\n",
    "    lst_colwidths.append([])\n",
    "    for i in range(len(df.index.names) + len(df.columns)):\n",
    "        lst_fmts[len(lst_fmts) - 1].append('')\n",
    "        lst_colwidths[len(lst_colwidths) - 1].append(0)\n",
    "    return lst_dfs, lst_shts, lst_fmts, lst_colwidths\n",
    "\n",
    "# Write list of DataFrames to Excel workbook as separate worksheets\n",
    "def XLWriter(wkbk, lst_dfs, lst_shts, lst_fmts, lst_colwidths):\n",
    "    writer = pd.ExcelWriter(wkbk, engine='xlsxwriter')\n",
    "    worksheet = []\n",
    "    workbook = writer.book\n",
    "    for i in range(len(lst_dfs)):\n",
    "        lst_dfs[i].to_excel(writer, sheet_name=lst_shts[i])\n",
    "        worksheet.append(writer.sheets[lst_shts[i]])\n",
    "    \n",
    "    #Add all uniqueformats to a dict\n",
    "    dict_fmts = {}\n",
    "    format = []\n",
    "    k = 0\n",
    "    for i in range(len(lst_fmts)):\n",
    "        for j in range(len(lst_fmts[i])):\n",
    "            curfmt = lst_fmts[i][j]\n",
    "            if len(curfmt) > 0 and curfmt not in dict_fmts:\n",
    "                dict_fmts[curfmt] = k #Save the index, k, as dictionary value for later\n",
    "                format.append(workbook.add_format({'num_format': curfmt}))\n",
    "                k += 1\n",
    "    \n",
    "    #Assign specified formats and column widths to each sheet\n",
    "    for i in range(len(lst_shts)):\n",
    "        \n",
    "        #create pd.ExcelWriter object for each sheet\n",
    "        worksheet = writer.sheets[lst_shts[i]]\n",
    "        \n",
    "        #Assign any specified column widths and number formats\n",
    "        for j in range(1,len(lst_fmts[i])):\n",
    "            colstr = XLColString(j + 1)\n",
    "            colwidth = None\n",
    "            fmt = None\n",
    "            \n",
    "            if lst_colwidths[i][j] > 0: colwidth = lst_colwidths[i][j]\n",
    "            if len(lst_fmts[i][j]) > 0: fmt = lst_fmts[i][j]\n",
    "\n",
    "            if fmt != None:\n",
    "                worksheet.set_column(colstr, colwidth, format[dict_fmts[fmt]])\n",
    "            else:\n",
    "                worksheet.set_column(colstr, colwidth, None)\n",
    "                \n",
    "    #Write the workbook and return\n",
    "    writer.save()\n",
    "    return()\n",
    "\n",
    "#Converts an integer, icol, into an Excel column range (Example: icol = 30 --> 'DD:DD')\n",
    "def XLColString(icol):\n",
    "    alphabet = 'ABCDEFGHIJKLMNOPQRSTUVWXYZ'\n",
    "    mult = icol//26 #Python floor division\n",
    "    letters = alphabet[(icol % 26) - 1] * (mult + 1) #Python modulo\n",
    "    return letters + ':' + letters"
   ]
  },
  {
   "cell_type": "markdown",
   "metadata": {},
   "source": [
    "### Demo of XLWriter usage"
   ]
  },
  {
   "cell_type": "code",
   "execution_count": 41,
   "metadata": {},
   "outputs": [
    {
     "data": {
      "text/html": [
       "<div>\n",
       "<style scoped>\n",
       "    .dataframe tbody tr th:only-of-type {\n",
       "        vertical-align: middle;\n",
       "    }\n",
       "\n",
       "    .dataframe tbody tr th {\n",
       "        vertical-align: top;\n",
       "    }\n",
       "\n",
       "    .dataframe thead th {\n",
       "        text-align: right;\n",
       "    }\n",
       "</style>\n",
       "<table border=\"1\" class=\"dataframe\">\n",
       "  <thead>\n",
       "    <tr style=\"text-align: right;\">\n",
       "      <th></th>\n",
       "      <th>Company</th>\n",
       "      <th>Product</th>\n",
       "      <th>Revenue</th>\n",
       "    </tr>\n",
       "  </thead>\n",
       "  <tbody>\n",
       "    <tr>\n",
       "      <td>0</td>\n",
       "      <td>Company A</td>\n",
       "      <td>Product A</td>\n",
       "      <td>27.46</td>\n",
       "    </tr>\n",
       "    <tr>\n",
       "      <td>1</td>\n",
       "      <td>Company B</td>\n",
       "      <td>Product B</td>\n",
       "      <td>18.33</td>\n",
       "    </tr>\n",
       "    <tr>\n",
       "      <td>2</td>\n",
       "      <td>Company C</td>\n",
       "      <td>Product C</td>\n",
       "      <td>14.00</td>\n",
       "    </tr>\n",
       "    <tr>\n",
       "      <td>3</td>\n",
       "      <td>Company A</td>\n",
       "      <td>Product A</td>\n",
       "      <td>19.27</td>\n",
       "    </tr>\n",
       "    <tr>\n",
       "      <td>4</td>\n",
       "      <td>Company C</td>\n",
       "      <td>Product B</td>\n",
       "      <td>94.17</td>\n",
       "    </tr>\n",
       "    <tr>\n",
       "      <td>5</td>\n",
       "      <td>Company B</td>\n",
       "      <td>Product B</td>\n",
       "      <td>18.13</td>\n",
       "    </tr>\n",
       "    <tr>\n",
       "      <td>6</td>\n",
       "      <td>Company B</td>\n",
       "      <td>Product B</td>\n",
       "      <td>15.05</td>\n",
       "    </tr>\n",
       "    <tr>\n",
       "      <td>7</td>\n",
       "      <td>Company C</td>\n",
       "      <td>Product B</td>\n",
       "      <td>19.25</td>\n",
       "    </tr>\n",
       "    <tr>\n",
       "      <td>8</td>\n",
       "      <td>Company A</td>\n",
       "      <td>Product B</td>\n",
       "      <td>27.60</td>\n",
       "    </tr>\n",
       "  </tbody>\n",
       "</table>\n",
       "</div>"
      ],
      "text/plain": [
       "     Company    Product  Revenue\n",
       "0  Company A  Product A    27.46\n",
       "1  Company B  Product B    18.33\n",
       "2  Company C  Product C    14.00\n",
       "3  Company A  Product A    19.27\n",
       "4  Company C  Product B    94.17\n",
       "5  Company B  Product B    18.13\n",
       "6  Company B  Product B    15.05\n",
       "7  Company C  Product B    19.25\n",
       "8  Company A  Product B    27.60"
      ]
     },
     "execution_count": 41,
     "metadata": {},
     "output_type": "execute_result"
    }
   ],
   "source": [
    "df = pd.DataFrame([['Company A','Product A',27.46],\n",
    "                   ['Company B','Product B',18.33],\n",
    "                   ['Company C','Product C',14.0],\n",
    "                   ['Company A','Product A',19.27], \n",
    "                   ['Company C','Product B',94.17],\n",
    "                   ['Company B','Product B',18.13],\n",
    "                   ['Company B','Product B',15.05],\n",
    "                   ['Company C','Product B',19.25],\n",
    "                   ['Company A','Product B',27.6]], \n",
    "                  columns=['Company','Product','Revenue'])\n",
    "df"
   ]
  },
  {
   "cell_type": "code",
   "execution_count": 42,
   "metadata": {},
   "outputs": [
    {
     "name": "stdout",
     "output_type": "stream",
     "text": [
      "1 [['', '@', '@', '$#,##0.00']] [[0, 12, 12, 10]]\n"
     ]
    }
   ],
   "source": [
    "#Add the DataFrame as a sheet for Excel output. First list position is index column A\n",
    "XLWriterPrep(list_dfs,list_shts,list_fmts,list_colwidths,df,'Sales Data')\n",
    "i = len(list_dfs)-1\n",
    "list_fmts[i] = ['','@','@','$#,##0.00']\n",
    "list_colwidths[i] = [0,12,12,10]\n",
    "print(len(list_dfs),list_fmts, list_colwidths)"
   ]
  },
  {
   "cell_type": "code",
   "execution_count": 43,
   "metadata": {},
   "outputs": [
    {
     "data": {
      "text/html": [
       "<div>\n",
       "<style scoped>\n",
       "    .dataframe tbody tr th:only-of-type {\n",
       "        vertical-align: middle;\n",
       "    }\n",
       "\n",
       "    .dataframe tbody tr th {\n",
       "        vertical-align: top;\n",
       "    }\n",
       "\n",
       "    .dataframe thead th {\n",
       "        text-align: right;\n",
       "    }\n",
       "</style>\n",
       "<table border=\"1\" class=\"dataframe\">\n",
       "  <thead>\n",
       "    <tr style=\"text-align: right;\">\n",
       "      <th></th>\n",
       "      <th>Company</th>\n",
       "      <th>Product</th>\n",
       "      <th>Revenue</th>\n",
       "    </tr>\n",
       "  </thead>\n",
       "  <tbody>\n",
       "    <tr>\n",
       "      <td>0</td>\n",
       "      <td>Company A</td>\n",
       "      <td>Product A</td>\n",
       "      <td>46.73</td>\n",
       "    </tr>\n",
       "    <tr>\n",
       "      <td>1</td>\n",
       "      <td>Company A</td>\n",
       "      <td>Product B</td>\n",
       "      <td>27.60</td>\n",
       "    </tr>\n",
       "    <tr>\n",
       "      <td>2</td>\n",
       "      <td>Company B</td>\n",
       "      <td>Product B</td>\n",
       "      <td>51.51</td>\n",
       "    </tr>\n",
       "    <tr>\n",
       "      <td>3</td>\n",
       "      <td>Company C</td>\n",
       "      <td>Product B</td>\n",
       "      <td>113.42</td>\n",
       "    </tr>\n",
       "    <tr>\n",
       "      <td>4</td>\n",
       "      <td>Company C</td>\n",
       "      <td>Product C</td>\n",
       "      <td>14.00</td>\n",
       "    </tr>\n",
       "  </tbody>\n",
       "</table>\n",
       "</div>"
      ],
      "text/plain": [
       "     Company    Product  Revenue\n",
       "0  Company A  Product A    46.73\n",
       "1  Company A  Product B    27.60\n",
       "2  Company B  Product B    51.51\n",
       "3  Company C  Product B   113.42\n",
       "4  Company C  Product C    14.00"
      ]
     },
     "execution_count": 43,
     "metadata": {},
     "output_type": "execute_result"
    }
   ],
   "source": [
    "df_summ = df.groupby(['Company','Product']).sum()\n",
    "df_summ.reset_index(inplace=True)\n",
    "df_summ"
   ]
  },
  {
   "cell_type": "code",
   "execution_count": 44,
   "metadata": {},
   "outputs": [
    {
     "name": "stdout",
     "output_type": "stream",
     "text": [
      "2 [['', '@', '@', '$#,##0.00'], ['', '@', '@', '$#,##0']] [[0, 12, 12, 10], [0, 12, 12, 10]]\n"
     ]
    }
   ],
   "source": [
    "#Add the DataFrame as a sheet for Excel output. First list position is index column A\n",
    "XLWriterPrep(list_dfs,list_shts,list_fmts,list_colwidths,df_summ,'Sales Summary')\n",
    "i = len(list_dfs)-1\n",
    "list_fmts[i] = ['','@','@','$#,##0']\n",
    "list_colwidths[i] = [0,12,12,10]\n",
    "print(len(list_dfs),list_fmts, list_colwidths)"
   ]
  },
  {
   "cell_type": "code",
   "execution_count": 45,
   "metadata": {},
   "outputs": [
    {
     "data": {
      "text/plain": [
       "()"
      ]
     },
     "execution_count": 45,
     "metadata": {},
     "output_type": "execute_result"
    }
   ],
   "source": [
    "#XL writer - create an Excel workbook with the DataFrames on sheets\n",
    "XLWriter('AllData.xlsx',list_dfs,list_shts,list_fmts,list_colwidths)"
   ]
  }
 ],
 "metadata": {
  "kernelspec": {
   "display_name": "Python 3",
   "language": "python",
   "name": "python3"
  },
  "language_info": {
   "codemirror_mode": {
    "name": "ipython",
    "version": 3
   },
   "file_extension": ".py",
   "mimetype": "text/x-python",
   "name": "python",
   "nbconvert_exporter": "python",
   "pygments_lexer": "ipython3",
   "version": "3.6.9"
  }
 },
 "nbformat": 4,
 "nbformat_minor": 2
}
